{
 "cells": [
  {
   "cell_type": "code",
   "execution_count": 12,
   "metadata": {},
   "outputs": [],
   "source": [
    "from PIL import Image\n"
   ]
  },
  {
   "cell_type": "code",
   "execution_count": 44,
   "metadata": {},
   "outputs": [],
   "source": [
    "\n",
    "def convert_to_grayscale():\n",
    "    for i in range(14):\n",
    "        input_path = './image/pgm/train{}.png'.format(i+1)\n",
    "        output_path = './image/pgm/pgm/right/train{}.pgm'.format(i+1)\n",
    "        # 이미지 열기\n",
    "        image = Image.open(input_path)\n",
    "\n",
    "        image = image.resize((16, 16))\n",
    "\n",
    "        # 이미지 크기 가져오기\n",
    "        width, height = image.size\n",
    "\n",
    "        # 새로운 이미지 생성 (흑백 이미지)\n",
    "        grayscale_image = Image.new(\"L\", (width, height))\n",
    "\n",
    "        # 각 픽셀의 RGB 값을 가져와서 흑백으로 변환\n",
    "        for x in range(width):\n",
    "            for y in range(height):\n",
    "                # 각 픽셀의 RGB 값 가져오기\n",
    "                r, g, b = image.getpixel((x, y))\n",
    "\n",
    "                # RGB 값의 평균 계산\n",
    "                gray_value = int((r + g + b) / 3)\n",
    "\n",
    "                # 새로운 이미지에 흑백 값 설정\n",
    "                grayscale_image.putpixel((x, y), gray_value)\n",
    "\n",
    "        # 이미지 저장\n",
    "        grayscale_image.save(output_path)\n",
    "\n",
    "# 입력 파일 경로와 출력 파일 경로 설정\n",
    "# input_image_path = \"./image/testimage.png\"\n",
    "# output_image_path = \"./image/output_image1.pgm\"\n",
    "# output_image_path = \"./image/train/train1.jpeg\"\n"
   ]
  },
  {
   "cell_type": "code",
   "execution_count": 45,
   "metadata": {},
   "outputs": [],
   "source": [
    "\n",
    "# 함수 호출\n",
    "# convert_to_grayscale()\n"
   ]
  },
  {
   "cell_type": "code",
   "execution_count": 54,
   "metadata": {},
   "outputs": [
    {
     "name": "stdout",
     "output_type": "stream",
     "text": [
      "0.0\t0.0\t0.0\t0.0\t0.0\t0.0\t0.0\t0.023529411764705882\t0.03137254901960784\t0.0\t0.0\t0.0\t0.0\t0.0\t0.0\t0.0\t\n",
      "\n",
      "0.0\t0.0\t0.0\t0.0\t0.0\t0.0\t0.0196078431372549\t0.7058823529411765\t0.7333333333333333\t0.027450980392156862\t0.0\t0.0\t0.0\t0.0\t0.0\t0.0\t\n",
      "\n",
      "0.0\t0.0\t0.0\t0.0\t0.0\t0.0\t0.3137254901960784\t1.0\t0.6549019607843137\t0.00392156862745098\t0.0\t0.0\t0.0\t0.0\t0.0\t0.0\t\n",
      "\n",
      "0.0\t0.0\t0.00392156862745098\t0.3176470588235294\t0.3411764705882353\t0.09411764705882353\t0.7725490196078432\t0.9803921568627451\t0.2549019607843137\t0.06666666666666667\t0.06666666666666667\t0.058823529411764705\t0.00392156862745098\t0.0\t0.0\t0.0\t\n",
      "\n",
      "0.0\t0.0\t0.050980392156862744\t0.9294117647058824\t1.0\t0.9607843137254902\t1.0\t1.0\t0.9725490196078431\t0.9803921568627451\t0.9803921568627451\t0.9450980392156862\t0.3411764705882353\t0.0\t0.0\t0.0\t\n",
      "\n",
      "0.0\t0.0\t0.00784313725490196\t0.3607843137254902\t0.4745098039215686\t0.7607843137254902\t1.0\t0.6431372549019608\t0.5098039215686274\t0.5098039215686274\t0.5098039215686274\t0.5137254901960784\t0.18823529411764706\t0.0\t0.0\t0.0\t\n",
      "\n",
      "0.0\t0.0\t0.0\t0.0\t0.0\t0.7411764705882353\t0.9607843137254902\t0.050980392156862744\t0.0\t0.0\t0.0\t0.0\t0.0\t0.0\t0.0\t0.0\t\n",
      "\n",
      "0.0\t0.0\t0.0\t0.0\t0.06666666666666667\t0.9803921568627451\t0.6509803921568628\t0.011764705882352941\t0.0\t0.0\t0.0\t0.0\t0.0\t0.0\t0.0\t0.0\t\n",
      "\n",
      "0.0\t0.0\t0.0\t0.0\t0.06666666666666667\t0.9803921568627451\t0.49411764705882355\t0.0\t0.0\t0.0\t0.0\t0.0\t0.0\t0.0\t0.0\t0.0\t\n",
      "\n",
      "0.0\t0.0\t0.0\t0.0\t0.06666666666666667\t0.9803921568627451\t0.5098039215686274\t0.0\t0.0\t0.0\t0.0\t0.0\t0.0\t0.0\t0.0\t0.0\t\n",
      "\n",
      "0.0\t0.0\t0.0\t0.0\t0.06666666666666667\t0.9803921568627451\t0.4980392156862745\t0.0\t0.0\t0.0\t0.0\t0.01568627450980392\t0.0\t0.0\t0.0\t0.0\t\n",
      "\n",
      "0.0\t0.0\t0.0\t0.0\t0.07058823529411765\t0.984313725490196\t0.6078431372549019\t0.0\t0.0\t0.0196078431372549\t0.4117647058823529\t0.7137254901960784\t0.0392156862745098\t0.0\t0.0\t0.0\t\n",
      "\n",
      "0.0\t0.0\t0.0\t0.0\t0.03529411764705882\t0.8196078431372549\t0.9568627450980393\t0.1411764705882353\t0.13725490196078433\t0.7333333333333333\t1.0\t0.8588235294117647\t0.043137254901960784\t0.0\t0.0\t0.0\t\n",
      "\n",
      "0.0\t0.0\t0.0\t0.0\t0.0\t0.37254901960784315\t1.0\t0.8196078431372549\t0.9176470588235294\t0.996078431372549\t0.6431372549019608\t0.1803921568627451\t0.0\t0.0\t0.0\t0.0\t\n",
      "\n",
      "0.0\t0.0\t0.0\t0.0\t0.0\t0.03529411764705882\t0.7607843137254902\t0.9450980392156862\t0.8313725490196079\t0.23137254901960785\t0.0\t0.0\t0.0\t0.0\t0.0\t0.0\t\n",
      "\n",
      "0.0\t0.0\t0.0\t0.0\t0.0\t0.0\t0.0392156862745098\t0.07058823529411765\t0.043137254901960784\t0.0\t0.0\t0.0\t0.0\t0.0\t0.0\t0.0\t\n",
      "\n"
     ]
    }
   ],
   "source": [
    "output_image_path = \"./pgm/train/train1.pgm\"\n",
    "\n",
    "image = Image.open(output_image_path)\n",
    "for i in range(16):\n",
    "    for j in range(16):\n",
    "        print(image.getpixel((j,i))/255.0, end=\"\\t\")\n",
    "    print(\"\\n\")"
   ]
  },
  {
   "cell_type": "code",
   "execution_count": 34,
   "metadata": {},
   "outputs": [
    {
     "name": "stdout",
     "output_type": "stream",
     "text": [
      "['train1.pgm', 'train2.pgm', 'train3.pgm', 'train4.pgm', 'train5.pgm', 'train6.pgm', 'train7.pgm', 'train8.pgm', 'train9.pgm', 'train10.pgm', 'train11.pgm', 'train12.pgm', 'train13.pgm', 'train14.pgm', 'train15.pgm', 'train16.pgm', 'train17.pgm', 'train18.pgm', 'train19.pgm', 'train20.pgm', 'train21.pgm', 'train22.pgm', 'train23.pgm', 'train24.pgm', 'train25.pgm', 'train26.pgm', 'train27.pgm', 'train28.pgm', 'train29.pgm', 'train30.pgm', 'train31.pgm', 'train32.pgm', 'train33.pgm', 'train34.pgm', 'train35.pgm', 'train36.pgm', 'train37.pgm', 'train38.pgm', 'train39.pgm', 'train40.pgm', 'train41.pgm', 'train42.pgm', 'train43.pgm', 'train44.pgm', 'train45.pgm', 'train46.pgm', 'train47.pgm', 'train48.pgm', 'train49.pgm', 'train50.pgm', 'train51.pgm', 'train52.pgm', 'train53.pgm', 'train54.pgm', 'train55.pgm', 'train56.pgm', 'train57.pgm', 'train58.pgm', 'train59.pgm', 'train60.pgm', 'train61.pgm', 'train62.pgm', 'train63.pgm', 'train64.pgm', 'train65.pgm', 'train66.pgm', 'train67.pgm', 'train68.pgm', 'train69.pgm', 'train70.pgm', 'train71.pgm', 'train72.pgm', 'train73.pgm', 'train74.pgm', 'train75.pgm', 'train76.pgm', 'train77.pgm', 'train78.pgm', 'train79.pgm', 'train80.pgm', 'train81.pgm', 'train82.pgm', 'train83.pgm', 'train84.pgm', 'train85.pgm', 'train86.pgm', 'train87.pgm', 'train88.pgm', 'train89.pgm', 'train90.pgm', 'train91.pgm', 'train92.pgm', 'train93.pgm', 'train94.pgm', 'train95.pgm', 'train96.pgm', 'train97.pgm', 'train98.pgm', 'train99.pgm', 'train100.pgm', 'train101.pgm', 'train102.pgm', 'train103.pgm', 'train104.pgm', 'train105.pgm']\n"
     ]
    }
   ],
   "source": []
  }
 ],
 "metadata": {
  "kernelspec": {
   "display_name": "Python 3",
   "language": "python",
   "name": "python3"
  },
  "language_info": {
   "codemirror_mode": {
    "name": "ipython",
    "version": 3
   },
   "file_extension": ".py",
   "mimetype": "text/x-python",
   "name": "python",
   "nbconvert_exporter": "python",
   "pygments_lexer": "ipython3",
   "version": "3.8.10"
  }
 },
 "nbformat": 4,
 "nbformat_minor": 2
}
