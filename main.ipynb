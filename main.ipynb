{
 "cells": [
  {
   "cell_type": "code",
   "execution_count": 62,
   "metadata": {},
   "outputs": [],
   "source": [
    "import matplotlib.pyplot as plt\n",
    "from matrix_control import transposeMatrix, printMatrix, reshapeMatrix, sumMatrix\n",
    "from layer import Neuron\n",
    "# from model import LinearModel"
   ]
  },
  {
   "cell_type": "code",
   "execution_count": 63,
   "metadata": {},
   "outputs": [],
   "source": [
    "train_image = []\n",
    "sample_num = 84\n",
    "for i in range(sample_num):\n",
    "    image = plt.imread(fname='image/train/train{}.jpeg'.format(i+1))\n",
    "    image = reshapeMatrix(image, 1, 256)[0]\n",
    "    train_image.append(image)\n",
    "train_image = transposeMatrix(train_image)"
   ]
  },
  {
   "cell_type": "code",
   "execution_count": 64,
   "metadata": {},
   "outputs": [],
   "source": [
    "label = ['t', 'u', 'v', 'w', 'x', 'y', 'z', 't', 'u', 'v', 'w', 'x', 'y', 'z',\n",
    "         't', 'u', 'v', 'w', 'x', 'y', 'z', 't', 'u', 'v', 'w', 'x', 'y', 'z',\n",
    "         't', 'u', 'v', 'w', 'x', 'y', 'z', 't', 'u', 'v', 'w', 'x', 'y', 'z',\n",
    "         't', 'u', 'v', 'w', 'x', 'y', 'z', 't', 'u', 'v', 'w', 'x', 'y', 'z',\n",
    "         't', 'u', 'v', 'w', 'x', 'y', 'z', 't', 'u', 'v', 'w', 'x', 'y', 'z',\n",
    "         't', 'u', 'v', 'w', 'x', 'y', 'z', 't', 'u', 'v', 'w', 'x', 'y', 'z']\n",
    "# label = ['t']\n"
   ]
  },
  {
   "cell_type": "code",
   "execution_count": 65,
   "metadata": {},
   "outputs": [],
   "source": [
    "input_size = 256\n",
    "hidden_size_1 = 96\n",
    "hidden_size_2 = 48\n",
    "output_size = 7\n",
    "learning_rate = 0.001\n",
    "epochs = 50"
   ]
  },
  {
   "cell_type": "code",
   "execution_count": 66,
   "metadata": {},
   "outputs": [],
   "source": [
    "from layer import Neuron, one_hot_encoding\n",
    "from matrix_control import dimMatrix3to2, matrixDotProduct, multiplyScalar, printMatrix, reshapeMatrix, sumMatrix, transposeMatrix, splitMatrix, subtractMatrix, element_wise_multiply\n",
    "from utils import ReLU, ReLU_derivatived, sigmoid, Softmax, cross_entropy, calAccuracy\n",
    "import random\n",
    "\n",
    "\n",
    "class LinearModel:\n",
    "    def __init__(self, input_size, hidden_size1, hidden_size2, output_size, sample_num, learning_rate, epochs):\n",
    "        print(\"모델 생성 시작. 입력차원 {}개, 1히든차원 {}개, 2히든차원 {}개, 출력층 {}개로, 샘플 개수는 {}개 입니다.\"\n",
    "              .format(input_size, hidden_size1, hidden_size2, output_size, sample_num));\n",
    "        self.input_size = input_size\n",
    "        self.hidden_size1 = hidden_size1\n",
    "        self.hidden_size2 = hidden_size2\n",
    "        self.output_size = output_size\n",
    "        self.sample_num = sample_num\n",
    "        self.learning_rate = learning_rate\n",
    "        self.epochs = epochs\n",
    "\n",
    "        start = -1.0\n",
    "        end = 1.0\n",
    "\n",
    "        self.w1 = [[random.uniform(start, end) for _ in range(input_size)] for _ in range(hidden_size1)];\n",
    "        self.w2 = [[random.uniform(start, end) for _ in range(hidden_size1)] for _ in range(hidden_size2)];\n",
    "        self.w3 = [[random.uniform(start, end) for _ in range(hidden_size2)] for _ in range(output_size)];\n",
    "        \n",
    "\n",
    "    def preprocessing(self, X):\n",
    "        for i in range(len(X)):\n",
    "            for j in range(len(X[0])):\n",
    "                X[i][j] = X[i][j] / 255.0\n",
    "        \n",
    "        return X\n",
    "\n",
    "\n",
    "    def forward(self, X, label):\n",
    "        labeled_list = one_hot_encoding(label=label)\n",
    "        X = self.preprocessing(X)\n",
    "\n",
    "        loss_val = []\n",
    "        count_val = []\n",
    "        for i in range(self.epochs): \n",
    "            print('epochs : {}'.format(i+1))\n",
    "            dict = self.propagate(X)\n",
    "            outputs = transposeMatrix(dict['a3'])\n",
    "\n",
    "            if i%10 == 0:\n",
    "                loss = 0\n",
    "                for i in range(len(outputs)):\n",
    "                    loss += cross_entropy(prob_dist_predicted=outputs[i], prob_dist_true=labeled_list[i])\n",
    "                loss_val.append(loss)\n",
    "                print(f'training loss : {loss}')\n",
    "\n",
    "                count = calAccuracy(result=outputs, label=label)\n",
    "                count_val.append(count)\n",
    "\n",
    "            \n",
    "            self.backpropagate(label=label, dict=dict)\n",
    "        \n",
    "        return loss_val, count_val\n",
    "\n",
    "\n",
    "    def propagate(self, X):\n",
    "        dict = {}\n",
    "\n",
    "        z1 = matrixDotProduct(self.w1, X)\n",
    "        a1 = ReLU(z1)\n",
    "        # print(f'z1 = {z1}')\n",
    "        # print(f'a1 = {a1}')\n",
    "\n",
    "        z2 = matrixDotProduct(self.w2, a1)\n",
    "        a2 = ReLU(z2)\n",
    "        # print(f'z2 = {z2}')\n",
    "        # print(f'a2 = {a2}')\n",
    "\n",
    "        z3 = matrixDotProduct(self.w3, a2)\n",
    "        a3 = sigmoid(z3)\n",
    "        # print(f'z3 = {z3}')\n",
    "        # print(f'a3 = {a3}')\n",
    "\n",
    "        # a3 = Softmax(transposeMatrix(a3))\n",
    "\n",
    "        dict = {\n",
    "            'a0' : X,\n",
    "            'z1' : z1,\n",
    "            'a1' : a1,\n",
    "            'z2' : z2,\n",
    "            'a2' : a2,\n",
    "            'z3' : z3,\n",
    "            'a3' : a3\n",
    "        }\n",
    "\n",
    "        return dict\n",
    "\n",
    "\n",
    "    def backpropagate(self, label, dict):\n",
    "        labeled_list = one_hot_encoding(label=label)\n",
    "\n",
    "        # dz, dw 구하기. chain rule\n",
    "        dz_3 = transposeMatrix( subtractMatrix( matrix1=transposeMatrix(dict['a3']), matrix2=labeled_list ) )\n",
    "        dw_3 = matrixDotProduct(dz_3, transposeMatrix(dict['a2']))\n",
    "        da_2 = matrixDotProduct(transposeMatrix(self.w3), dz_3)\n",
    "\n",
    "        dz_2 = element_wise_multiply( da_2, ReLU_derivatived( dict['z2'] ) )\n",
    "        # dw_2 = multiplyScalar( matrixDotProduct ( dz_2, transposeMatrix(dict['a1']) ), 1/self.sample_num)\n",
    "        dw_2 = matrixDotProduct( dz_2, transposeMatrix(dict['a1']) )\n",
    "        da_1 = matrixDotProduct( transposeMatrix(self.w2), dz_2 )\n",
    "\n",
    "        dz_1 = element_wise_multiply( da_1, ReLU_derivatived( dict['z1'] ) )\n",
    "        # dw_1 = multiplyScalar( matrixDotProduct( dz_1, transposeMatrix(dict['a0']) ), 1/self.sample_num)\n",
    "        dw_1 = matrixDotProduct( dz_1, transposeMatrix(dict['a0']) )\n",
    "        da_0 = matrixDotProduct( transposeMatrix(self.w1), dz_1 )\n",
    "\n",
    "        # 가중치 업데이트\n",
    "        self.w1 = subtractMatrix(self.w1, multiplyScalar(matrix=dw_1, scalar=self.learning_rate))\n",
    "        self.w2 = subtractMatrix(self.w2, multiplyScalar(matrix=dw_2, scalar=self.learning_rate))\n",
    "        self.w3 = subtractMatrix(self.w3, multiplyScalar(matrix=dw_3, scalar=self.learning_rate))\n",
    "    \n",
    "    def test(self, test_data, test_label):\n",
    "        # 테스트 데이터를 받아서 검증 작업을 실시한다.\n",
    "        dict = self.propagate(X=test_data)\n",
    "\n",
    "        return dict['a3']"
   ]
  },
  {
   "cell_type": "code",
   "execution_count": 67,
   "metadata": {},
   "outputs": [
    {
     "name": "stdout",
     "output_type": "stream",
     "text": [
      "모델 생성 시작. 입력차원 256개, 1히든차원 96개, 2히든차원 48개, 출력층 7개로, 샘플 개수는 84개 입니다.\n",
      "epochs : 1\n",
      "training loss : 470.3270097017538\n",
      "정답 개수 : 13\n",
      "epochs : 2\n",
      "epochs : 3\n",
      "epochs : 4\n",
      "epochs : 5\n",
      "epochs : 6\n",
      "epochs : 7\n",
      "epochs : 8\n",
      "epochs : 9\n",
      "epochs : 10\n",
      "epochs : 11\n",
      "training loss : 196.6695493331023\n",
      "정답 개수 : 44\n",
      "epochs : 12\n",
      "epochs : 13\n",
      "epochs : 14\n",
      "epochs : 15\n",
      "epochs : 16\n",
      "epochs : 17\n",
      "epochs : 18\n",
      "epochs : 19\n",
      "epochs : 20\n",
      "epochs : 21\n",
      "training loss : 87.37854190385265\n",
      "정답 개수 : 69\n",
      "epochs : 22\n",
      "epochs : 23\n",
      "epochs : 24\n",
      "epochs : 25\n",
      "epochs : 26\n",
      "epochs : 27\n",
      "epochs : 28\n",
      "epochs : 29\n",
      "epochs : 30\n",
      "epochs : 31\n",
      "training loss : 50.31965144801128\n",
      "정답 개수 : 79\n",
      "epochs : 32\n",
      "epochs : 33\n",
      "epochs : 34\n",
      "epochs : 35\n",
      "epochs : 36\n",
      "epochs : 37\n",
      "epochs : 38\n",
      "epochs : 39\n",
      "epochs : 40\n",
      "epochs : 41\n",
      "training loss : 33.600231166757524\n",
      "정답 개수 : 82\n",
      "epochs : 42\n",
      "epochs : 43\n",
      "epochs : 44\n",
      "epochs : 45\n",
      "epochs : 46\n",
      "epochs : 47\n",
      "epochs : 48\n",
      "epochs : 49\n",
      "epochs : 50\n"
     ]
    }
   ],
   "source": [
    "model = LinearModel(input_size=input_size, hidden_size1=hidden_size_1, hidden_size2=hidden_size_2, output_size=output_size, sample_num=sample_num, learning_rate=learning_rate, epochs=epochs)\n",
    "loss_val, count_val = model.forward(train_image, label)"
   ]
  },
  {
   "cell_type": "code",
   "execution_count": 68,
   "metadata": {},
   "outputs": [
    {
     "data": {
      "text/plain": [
       "[<matplotlib.lines.Line2D at 0x219b97aee20>]"
      ]
     },
     "execution_count": 68,
     "metadata": {},
     "output_type": "execute_result"
    },
    {
     "data": {
      "image/png": "[encoded data removed]",
      "text/plain": [
       "<Figure size 640x480 with 1 Axes>"
      ]
     },
     "metadata": {},
     "output_type": "display_data"
    }
   ],
   "source": [
    "plt.plot(loss_val, label=\"loss\")"
   ]
  },
  {
   "cell_type": "code",
   "execution_count": 69,
   "metadata": {},
   "outputs": [
    {
     "data": {
      "text/plain": [
       "[<matplotlib.lines.Line2D at 0x219bb872b20>]"
      ]
     },
     "execution_count": 69,
     "metadata": {},
     "output_type": "execute_result"
    },
    {
     "data": {
      "image/png": "[encoded data removed]",
      "text/plain": [
       "<Figure size 640x480 with 1 Axes>"
      ]
     },
     "metadata": {},
     "output_type": "display_data"
    }
   ],
   "source": [
    "plt.plot(count_val, label=\"True count\")"
   ]
  },
  {
   "cell_type": "markdown",
   "metadata": {},
   "source": [
    "### Test"
   ]
  },
  {
   "cell_type": "code",
   "execution_count": 70,
   "metadata": {},
   "outputs": [
    {
     "name": "stdout",
     "output_type": "stream",
     "text": [
      "7\n",
      "20\n"
     ]
    }
   ],
   "source": [
    "test_image = []\n",
    "sample_num = 20\n",
    "for i in range(sample_num):\n",
    "    image = plt.imread(fname='image/train/train{}.jpeg'.format(i+1))\n",
    "    image = reshapeMatrix(image, 1, 256)[0]\n",
    "    test_image.append(image)\n",
    "test_image = transposeMatrix(test_image)\n",
    "\n",
    "test_label = ['t', 'u', 'v', 'w', 'x', 'y', 'z', 't', 'u', 'v', 'w', 'x', 'y', 'z',\n",
    "         't', 'u', 'v', 'w', 'x', 'y']\n",
    "\n",
    "test_result = model.test(test_data=test_image, test_label=test_label)\n",
    "\n",
    "print(len(test_result))\n",
    "print(len(test_result[0]))"
   ]
  },
  {
   "cell_type": "code",
   "execution_count": 71,
   "metadata": {},
   "outputs": [
    {
     "name": "stdout",
     "output_type": "stream",
     "text": [
      "정답 개수 : 20\n"
     ]
    },
    {
     "data": {
      "text/plain": [
       "20"
      ]
     },
     "execution_count": 71,
     "metadata": {},
     "output_type": "execute_result"
    }
   ],
   "source": [
    "calAccuracy(result=transposeMatrix(test_result), label=test_label)"
   ]
  }
 ],
 "metadata": {
  "kernelspec": {
   "display_name": "Python 3",
   "language": "python",
   "name": "python3"
  },
  "language_info": {
   "codemirror_mode": {
    "name": "ipython",
    "version": 3
   },
   "file_extension": ".py",
   "mimetype": "text/x-python",
   "name": "python",
   "nbconvert_exporter": "python",
   "pygments_lexer": "ipython3",
   "version": "3.8.10"
  }
 },
 "nbformat": 4,
 "nbformat_minor": 2
}
